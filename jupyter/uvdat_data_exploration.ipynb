{
 "cells": [
  {
   "cell_type": "code",
   "execution_count": null,
   "id": "d3435282-d633-4edf-8131-462a038306f1",
   "metadata": {},
   "outputs": [],
   "source": [
    "from uvdat_explorer import UVDATExplorer\n",
    "\n",
    "UVDATExplorer(\n",
    "    api_url='http://localhost:8000/api/v1',\n",
    "    # email='myemail',\n",
    "    # password='mypassword',\n",
    ")"
   ]
  }
 ],
 "metadata": {
  "kernelspec": {
   "display_name": "Python 3 (ipykernel)",
   "language": "python",
   "name": "python3"
  },
  "language_info": {
   "codemirror_mode": {
    "name": "ipython",
    "version": 3
   },
   "file_extension": ".py",
   "mimetype": "text/x-python",
   "name": "python",
   "nbconvert_exporter": "python",
   "pygments_lexer": "ipython3",
   "version": "3.10.16"
  }
 },
 "nbformat": 4,
 "nbformat_minor": 5
}
